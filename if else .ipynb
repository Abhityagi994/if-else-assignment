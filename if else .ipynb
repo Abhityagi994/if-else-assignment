{
 "cells": [
  {
   "cell_type": "markdown",
   "id": "6222aa17-b49a-4a7b-ba23-751d0326a59d",
   "metadata": {},
   "source": [
    "1. #Asking the user to enter the Digit\n",
    "#This code will only allow positive integers\n",
    "num=int(input(\"Enter the Number\"))\n",
    "if (num >= 100 and num <= 999):\n",
    "    print(\"It is a three-digit number.\")\n",
    "else:\n",
    "    print(\"It is NOT a three-digit number.\")\n"
   ]
  },
  {
   "cell_type": "code",
   "execution_count": null,
   "id": "9abaceed-e45c-46a1-9732-117ce89b7437",
   "metadata": {},
   "outputs": [],
   "source": [
    "#Proagram to built Percentage calculator\n",
    "pui=int(input('Enter the percentage')) #percentage from the user\n",
    "if(pui>90):\n",
    " print('You have recived Grade A')\n",
    "elif(pui>80 and pui<=90):\n",
    "   print('You have recived B grade')\n",
    "elif(pui>=60 and pui<=80):\n",
    "   print('You have recieved C grade')\n",
    "elif(pui<60):\n",
    "   print('You have recieved D grade')\n",
    "else:\n",
    "    print('invalid output')\n"
   ]
  },
  {
   "cell_type": "markdown",
   "id": "d019e473-ac81-4ca9-a096-6852fdc6076f",
   "metadata": {},
   "source": [
    "#Asking the user to enter the Digit\n",
    "#This code will only allow positive integers\n",
    "num=int(input(\"Enter the Number\"))\n",
    "if (num >= 100 and num <= 999):\n",
    "    print(\"It is a three-digit number.\")\n",
    "else:\n",
    "    print(\"It is NOT a three-digit number.\")\n"
   ]
  },
  {
   "cell_type": "code",
   "execution_count": 5,
   "id": "bdf59f06-40a8-44ef-b2ea-4c949d0e0b7d",
   "metadata": {},
   "outputs": [
    {
     "name": "stdin",
     "output_type": "stream",
     "text": [
      "Enter the electricity unit 300\n"
     ]
    },
    {
     "name": "stdout",
     "output_type": "stream",
     "text": [
      "1500\n"
     ]
    }
   ],
   "source": [
    "#Program about electricity bill\n",
    "usi=int(input(\"Enter the electricity unit\"))\n",
    "if usi<=100:\n",
    "    print('No charges')\n",
    "elif usi>100 and usi<=200:\n",
    "     ch1=(usi-100)*105 #350,100-null,500+(usi-200)*10\n",
    "     print(ch1)\n",
    "elif(usi>200):\n",
    " ch2=500+(usi-200)*10\n",
    " print(ch2)\n",
    "else:\n",
    "    print('Invalid input') \n"
   ]
  },
  {
   "cell_type": "markdown",
   "id": "48720b5b-a63c-4d1d-9823-256c64546383",
   "metadata": {},
   "source": [
    "Q3. Accept the age of 4 people and display the youngest one?\n",
    "\n"
   ]
  },
  {
   "cell_type": "code",
   "execution_count": 3,
   "id": "5d337c67-88d5-4ccc-b69e-fc761cda9a8e",
   "metadata": {},
   "outputs": [
    {
     "name": "stdin",
     "output_type": "stream",
     "text": [
      "Enter the first Age 8\n",
      "Enter the Second Age 9\n",
      "Enter the Third Age 10\n",
      "Enter the Fourth Age 11\n"
     ]
    },
    {
     "name": "stdout",
     "output_type": "stream",
     "text": [
      "Entered the Age are\n",
      "8\n",
      "9\n",
      "10\n",
      "11\n",
      "The youngest Age is 11\n"
     ]
    }
   ],
   "source": [
    "# Program to built the youngest of all 4\n",
    "age1=int(input('Enter the first Age'))\n",
    "age2=int(input('Enter the Second Age'))\n",
    "age3=int(input('Enter the Third Age'))\n",
    "age4=int(input('Enter the Fourth Age'))\n",
    "print('Entered the Age are')\n",
    "print(age1)\n",
    "print(age2)\n",
    "print(age3)\n",
    "print(age4)\n",
    "y=age1\n",
    "if age2>y:\n",
    " y=age2\n",
    "if age3>y:\n",
    " y=age3\n",
    "if age4>y:\n",
    " y=age4\n",
    "\n",
    "print('The youngest Age is',y)\n"
   ]
  },
  {
   "cell_type": "markdown",
   "id": "601f495e-55d6-4054-85ec-dc333c0cbb55",
   "metadata": {},
   "source": [
    "Q4. A company decided to give bonus to employee according to following criteria:\n",
    "\n",
    "Time period of Service Bonus\n",
    "\n",
    "More than 10 years 10%\n",
    "\n",
    "=6 and <=10 8%\n",
    "\n",
    "Less than 6 years 5%\n",
    "\n",
    "Ask user for their salary and years of service and print the net bonus amount?\n",
    "\n"
   ]
  },
  {
   "cell_type": "code",
   "execution_count": 6,
   "id": "b2b1d9ef-2e90-4756-9af1-61e4a09f34cc",
   "metadata": {},
   "outputs": [
    {
     "name": "stdin",
     "output_type": "stream",
     "text": [
      "Enter the Time period of Experience 10\n",
      "Enter the Salary 100000\n"
     ]
    },
    {
     "name": "stdout",
     "output_type": "stream",
     "text": [
      "The experience of tenure is 10\n",
      "The Salary is 100000\n",
      "Bonus ammount is 8000.0\n"
     ]
    }
   ],
   "source": [
    "pui=int(input('Enter the Time period of Experience')) #Time of Experience from the user\n",
    "sui=int(input('Enter the Salary')) #Salary of Experience from the user\n",
    "print('The experience of tenure is',pui)\n",
    "print('The Salary is',sui)\n",
    "if(pui>10):\n",
    " amt=int(0.1*sui)\n",
    " print('Bonus ammount is',amt)\n",
    "elif(pui>=6 and pui<=10):\n",
    " mt=0.08*sui\n",
    " print('Bonus ammount is',mt)\n",
    "elif (pui>0):\n",
    " mt2=0.05*sui\n",
    " print('Bonus Amount is',mt2)\n"
   ]
  },
  {
   "cell_type": "markdown",
   "id": "6a62ea21-f9b3-4032-a96b-35e7563a1797",
   "metadata": {},
   "source": [
    "Q5. Accept three numbers from the user and display the second largest number?\n",
    "\n"
   ]
  },
  {
   "cell_type": "code",
   "execution_count": 8,
   "id": "68ea7d78-5dc1-4dda-a621-4609290d7989",
   "metadata": {},
   "outputs": [
    {
     "name": "stdin",
     "output_type": "stream",
     "text": [
      "Enter the first number 12\n",
      "Enter the second number 54\n",
      "Enter the third number 78\n"
     ]
    },
    {
     "name": "stdout",
     "output_type": "stream",
     "text": [
      "54\n"
     ]
    }
   ],
   "source": [
    "# Second largest Number\n",
    "a=int(input(\"Enter the first number\"))\n",
    "b=int(input(\"Enter the second number\"))\n",
    "c=int(input(\"Enter the third number\"))\n",
    "if (a > b and a < c) or (a > c and a < b):\n",
    "    second_largest = a\n",
    "    print(a)\n",
    "elif (b > a and b < c) or (b > c and b < a):\n",
    "    second_largest = b\n",
    "    print(b)\n",
    "else:\n",
    "    second_largest = c\n",
    "    print(c)\n"
   ]
  },
  {
   "cell_type": "markdown",
   "id": "aeea993f-29c3-469b-9d21-44687f06cea0",
   "metadata": {},
   "source": [
    "Q6. Accept the marked price from the user and calculate the Net amount as (Marked Price – Discount) to pay according to following criteria:\n",
    "\n",
    "Marked Price Discount\n",
    "\n",
    "10000 20% 7000 and <=10000 15% <=7000 10%\n",
    "\n"
   ]
  },
  {
   "cell_type": "code",
   "execution_count": 9,
   "id": "f47e761b-829c-4b7f-b48c-12dc9851afa3",
   "metadata": {},
   "outputs": [
    {
     "name": "stdin",
     "output_type": "stream",
     "text": [
      "Enter the marked price:  30000\n"
     ]
    },
    {
     "name": "stdout",
     "output_type": "stream",
     "text": [
      "Marked Price: 30000.0\n",
      "Discount: 6000.0\n",
      "Net Amount to Pay: 24000.0\n"
     ]
    }
   ],
   "source": [
    "# Accept the marked price from the user\n",
    "marked_price = float(input(\"Enter the marked price: \"))\n",
    "\n",
    "# Calculate discount based on criteria\n",
    "if marked_price > 10000:\n",
    "    discount = 0.20 * marked_price\n",
    "elif marked_price > 7000:\n",
    "    discount = 0.15 * marked_price\n",
    "else:\n",
    "    discount = 0.10 * marked_price\n",
    "\n",
    "# Calculate net amount\n",
    "net_amount = marked_price - discount\n",
    "\n",
    "# Display the results\n",
    "print(\"Marked Price:\", marked_price)\n",
    "print(\"Discount:\", discount)\n",
    "print(\"Net Amount to Pay:\", net_amount)\n"
   ]
  },
  {
   "cell_type": "markdown",
   "id": "b0fc7491-dbdb-4772-ba47-8d1a683dacf9",
   "metadata": {},
   "source": [
    "Q7. Accept the marks of English, Math and Science, Social Studies Subject and display the stream allotted according to following:\n",
    "\n",
    "All Subjects more than 80 marks — Science Stream\n",
    "\n",
    "English >80 and Math, Science above 50 — Commerce Stream\n",
    "\n",
    "English > 80 and social studies > 80 — Humanities\n",
    "\n"
   ]
  },
  {
   "cell_type": "code",
   "execution_count": 3,
   "id": "27e0ae12-64f2-4b93-82e4-cd800a9de58e",
   "metadata": {},
   "outputs": [
    {
     "name": "stdin",
     "output_type": "stream",
     "text": [
      "Enter marks in English:  70\n",
      "Enter marks in Math:  40\n",
      "Enter marks in Science:  39\n",
      "Enter marks in Social Studies:  70\n"
     ]
    },
    {
     "name": "stdout",
     "output_type": "stream",
     "text": [
      "No stream allotted based on the given criteria.\n"
     ]
    }
   ],
   "source": [
    "# Accepting marks for all subjects\n",
    "english = int(input(\"Enter marks in English: \"))\n",
    "math = int(input(\"Enter marks in Math: \"))\n",
    "science = int(input(\"Enter marks in Science: \"))\n",
    "social = int(input(\"Enter marks in Social Studies: \"))\n",
    "\n",
    "# Determine the stream based on conditions\n",
    "if english > 80 and math > 80 and science > 80 and social > 80:\n",
    "    print(\"Stream Allotted: Science Stream\")\n",
    "elif english > 80 and math > 50 and science > 50:\n",
    "    print(\"Stream Allotted: Commerce Stream\")\n",
    "elif english > 80 and social > 80:\n",
    "    print(\"Stream Allotted: Humanities\")\n",
    "else:\n",
    "    print(\"No stream allotted based on the given criteria.\")\n"
   ]
  },
  {
   "cell_type": "markdown",
   "id": "d377fa9b-8dc2-479f-91b2-a0d67df40cc4",
   "metadata": {},
   "source": [
    "Q8. Write a program to display \"Hello\" if a number entered by user is a multiple of five, otherwise print \"Bye\"?\n",
    "\n"
   ]
  },
  {
   "cell_type": "code",
   "execution_count": 1,
   "id": "0562b0fb-b995-4c60-b8e6-c2445ceb9883",
   "metadata": {},
   "outputs": [
    {
     "name": "stdin",
     "output_type": "stream",
     "text": [
      "Enter the number 7\n"
     ]
    },
    {
     "name": "stdout",
     "output_type": "stream",
     "text": [
      "bye\n"
     ]
    }
   ],
   "source": [
    "# Accept the Number from the user\n",
    "inp=int(input(\"Enter the number\"))\n",
    "if inp%5==0:\n",
    "    print('You have entered the number divisible by 5')\n",
    "    print('Hello')\n",
    "else:\n",
    "    print('bye')\n",
    "    \n"
   ]
  },
  {
   "cell_type": "markdown",
   "id": "3e178c48-5fae-4ccb-b5e1-7de85a1abd81",
   "metadata": {},
   "source": [
    "Q9. Write a program to check whether the last digit of a number (entered by user) is divisible by 3 or not?\n",
    "\n"
   ]
  },
  {
   "cell_type": "code",
   "execution_count": 3,
   "id": "443667b0-6e4d-4229-8fdb-1ebbb8b8c62b",
   "metadata": {},
   "outputs": [
    {
     "name": "stdin",
     "output_type": "stream",
     "text": [
      "Enter the Number to check  3\n"
     ]
    },
    {
     "name": "stdout",
     "output_type": "stream",
     "text": [
      "The last digit 3 is divisible by 3.\n"
     ]
    }
   ],
   "source": [
    "# Take input from the user \n",
    "inp=int(input('Enter the Number to check '))\n",
    "inp2=inp%10\n",
    "if inp2 % 3 == 0:\n",
    "    print(\"The last digit\", inp2, \"is divisible by 3.\")\n",
    "else:\n",
    "    print(\"The last digit\", inp2, \"is not divisible by 3.\")\n"
   ]
  },
  {
   "cell_type": "markdown",
   "id": "19d16ed7-5adf-4958-953d-1205e9b4961b",
   "metadata": {},
   "source": [
    "Q10. Write a program to check whether a number entered is three-digit number or not?\n",
    "\n"
   ]
  },
  {
   "cell_type": "code",
   "execution_count": 4,
   "id": "799afa7c-61be-4e56-8085-6b7baee9a737",
   "metadata": {},
   "outputs": [
    {
     "name": "stdin",
     "output_type": "stream",
     "text": [
      "Enter the Number 965\n"
     ]
    },
    {
     "name": "stdout",
     "output_type": "stream",
     "text": [
      "It is a three-digit number.\n"
     ]
    }
   ],
   "source": [
    "#Asking the user to enter the Digit\n",
    "#This code will only allow positive integers\n",
    "num=int(input(\"Enter the Number\"))\n",
    "if (num >= 100 and num <= 999):\n",
    "    print(\"It is a three-digit number.\")\n",
    "else:\n",
    "    print(\"It is NOT a three-digit number.\")\n"
   ]
  },
  {
   "cell_type": "markdown",
   "id": "7134edcc-e669-494e-aa9f-c69913016b31",
   "metadata": {},
   "source": []
  }
 ],
 "metadata": {
  "kernelspec": {
   "display_name": "Python 3 (ipykernel)",
   "language": "python",
   "name": "python3"
  },
  "language_info": {
   "codemirror_mode": {
    "name": "ipython",
    "version": 3
   },
   "file_extension": ".py",
   "mimetype": "text/x-python",
   "name": "python",
   "nbconvert_exporter": "python",
   "pygments_lexer": "ipython3",
   "version": "3.13.5"
  }
 },
 "nbformat": 4,
 "nbformat_minor": 5
}
